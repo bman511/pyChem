{
 "cells": [
  {
   "cell_type": "code",
   "execution_count": 10,
   "metadata": {},
   "outputs": [],
   "source": [
    "import pandas as pd\n",
    "import statistics as sts\n",
    "from scipy import stats as st\n",
    "import numpy as np"
   ]
  },
  {
   "cell_type": "code",
   "execution_count": 11,
   "metadata": {},
   "outputs": [],
   "source": [
    "# Calculate the standard and relative standard deviation\n",
    "# of LC (liquid chromatography) peak area data"
   ]
  },
  {
   "cell_type": "code",
   "execution_count": 12,
   "metadata": {},
   "outputs": [
    {
     "data": {
      "text/html": [
       "<div>\n",
       "<style scoped>\n",
       "    .dataframe tbody tr th:only-of-type {\n",
       "        vertical-align: middle;\n",
       "    }\n",
       "\n",
       "    .dataframe tbody tr th {\n",
       "        vertical-align: top;\n",
       "    }\n",
       "\n",
       "    .dataframe thead th {\n",
       "        text-align: right;\n",
       "    }\n",
       "</style>\n",
       "<table border=\"1\" class=\"dataframe\">\n",
       "  <thead>\n",
       "    <tr style=\"text-align: right;\">\n",
       "      <th></th>\n",
       "      <th>Data</th>\n",
       "    </tr>\n",
       "  </thead>\n",
       "  <tbody>\n",
       "    <tr>\n",
       "      <th>0</th>\n",
       "      <td>2957398</td>\n",
       "    </tr>\n",
       "    <tr>\n",
       "      <th>1</th>\n",
       "      <td>3733127</td>\n",
       "    </tr>\n",
       "    <tr>\n",
       "      <th>2</th>\n",
       "      <td>2900811</td>\n",
       "    </tr>\n",
       "    <tr>\n",
       "      <th>3</th>\n",
       "      <td>3010190</td>\n",
       "    </tr>\n",
       "    <tr>\n",
       "      <th>4</th>\n",
       "      <td>2810196</td>\n",
       "    </tr>\n",
       "    <tr>\n",
       "      <th>5</th>\n",
       "      <td>2084063</td>\n",
       "    </tr>\n",
       "    <tr>\n",
       "      <th>6</th>\n",
       "      <td>2812196</td>\n",
       "    </tr>\n",
       "    <tr>\n",
       "      <th>7</th>\n",
       "      <td>2830106</td>\n",
       "    </tr>\n",
       "    <tr>\n",
       "      <th>8</th>\n",
       "      <td>2710116</td>\n",
       "    </tr>\n",
       "    <tr>\n",
       "      <th>9</th>\n",
       "      <td>2910196</td>\n",
       "    </tr>\n",
       "  </tbody>\n",
       "</table>\n",
       "</div>"
      ],
      "text/plain": [
       "      Data\n",
       "0  2957398\n",
       "1  3733127\n",
       "2  2900811\n",
       "3  3010190\n",
       "4  2810196\n",
       "5  2084063\n",
       "6  2812196\n",
       "7  2830106\n",
       "8  2710116\n",
       "9  2910196"
      ]
     },
     "execution_count": 12,
     "metadata": {},
     "output_type": "execute_result"
    }
   ],
   "source": [
    "df1 = pd.read_csv('data/SD_RSD.csv')\n",
    "df1"
   ]
  },
  {
   "cell_type": "code",
   "execution_count": 13,
   "metadata": {},
   "outputs": [
    {
     "data": {
      "text/plain": [
       "398088.9166369884"
      ]
     },
     "execution_count": 13,
     "metadata": {},
     "output_type": "execute_result"
    }
   ],
   "source": [
    "#Standard deviation of the data set using the statistics module\n",
    "sd1 = sts.stdev(df1['Data'])\n",
    "sd1"
   ]
  },
  {
   "cell_type": "code",
   "execution_count": 14,
   "metadata": {},
   "outputs": [
    {
     "data": {
      "text/plain": [
       "398088.9166369884"
      ]
     },
     "execution_count": 14,
     "metadata": {},
     "output_type": "execute_result"
    }
   ],
   "source": [
    "#Now using the describe pandas function, I select the number from the returned dataframe\n",
    "summ_df1 = df1.describe()\n",
    "sd2 = df1.describe().loc['std'][0]\n",
    "sd2"
   ]
  },
  {
   "cell_type": "code",
   "execution_count": 15,
   "metadata": {},
   "outputs": [
    {
     "data": {
      "text/html": [
       "<div>\n",
       "<style scoped>\n",
       "    .dataframe tbody tr th:only-of-type {\n",
       "        vertical-align: middle;\n",
       "    }\n",
       "\n",
       "    .dataframe tbody tr th {\n",
       "        vertical-align: top;\n",
       "    }\n",
       "\n",
       "    .dataframe thead th {\n",
       "        text-align: right;\n",
       "    }\n",
       "</style>\n",
       "<table border=\"1\" class=\"dataframe\">\n",
       "  <thead>\n",
       "    <tr style=\"text-align: right;\">\n",
       "      <th></th>\n",
       "      <th>Data</th>\n",
       "    </tr>\n",
       "  </thead>\n",
       "  <tbody>\n",
       "    <tr>\n",
       "      <th>count</th>\n",
       "      <td>1.000000e+01</td>\n",
       "    </tr>\n",
       "    <tr>\n",
       "      <th>mean</th>\n",
       "      <td>2.875840e+06</td>\n",
       "    </tr>\n",
       "    <tr>\n",
       "      <th>std</th>\n",
       "      <td>3.980889e+05</td>\n",
       "    </tr>\n",
       "    <tr>\n",
       "      <th>min</th>\n",
       "      <td>2.084063e+06</td>\n",
       "    </tr>\n",
       "    <tr>\n",
       "      <th>25%</th>\n",
       "      <td>2.810696e+06</td>\n",
       "    </tr>\n",
       "    <tr>\n",
       "      <th>50%</th>\n",
       "      <td>2.865458e+06</td>\n",
       "    </tr>\n",
       "    <tr>\n",
       "      <th>75%</th>\n",
       "      <td>2.945598e+06</td>\n",
       "    </tr>\n",
       "    <tr>\n",
       "      <th>max</th>\n",
       "      <td>3.733127e+06</td>\n",
       "    </tr>\n",
       "  </tbody>\n",
       "</table>\n",
       "</div>"
      ],
      "text/plain": [
       "               Data\n",
       "count  1.000000e+01\n",
       "mean   2.875840e+06\n",
       "std    3.980889e+05\n",
       "min    2.084063e+06\n",
       "25%    2.810696e+06\n",
       "50%    2.865458e+06\n",
       "75%    2.945598e+06\n",
       "max    3.733127e+06"
      ]
     },
     "execution_count": 15,
     "metadata": {},
     "output_type": "execute_result"
    }
   ],
   "source": [
    "summ_df1"
   ]
  },
  {
   "cell_type": "code",
   "execution_count": 16,
   "metadata": {},
   "outputs": [
    {
     "name": "stdout",
     "output_type": "stream",
     "text": [
      "13.8%\n"
     ]
    }
   ],
   "source": [
    "#But what is the magnitude of the spread compared to the raw data?\n",
    "#Let's calculate the RSD (relative standard deviation)\n",
    "the_mean = summ_df1.loc['mean'][0]\n",
    "the_RSD = round(sd1/the_mean * 100,1)\n",
    "print(f'{the_RSD}%')"
   ]
  },
  {
   "cell_type": "code",
   "execution_count": 17,
   "metadata": {},
   "outputs": [],
   "source": [
    "#13.8%, not great for an LC method.  We probably need to do a bit more optimization or try and figure out the source of the variability."
   ]
  },
  {
   "cell_type": "code",
   "execution_count": 18,
   "metadata": {},
   "outputs": [
    {
     "data": {
      "text/plain": [
       "(2591064.2443005526, 3160615.555699447)"
      ]
     },
     "execution_count": 18,
     "metadata": {},
     "output_type": "execute_result"
    }
   ],
   "source": [
    "#Now let's calculate some 95% confidence intervals using scipy.stats\n",
    "#https://stackoverflow.com/questions/15033511/compute-a-confidence-interval-from-sample-data\n",
    "#See the interval() method for the t continuous variable at:\n",
    "#https://docs.scipy.org/doc/scipy/reference/generated/scipy.stats.t.html#scipy.stats.t\n",
    "the_data = df1['Data']\n",
    "interval = st.t.interval(0.95, len(the_data)-1, loc=np.mean(the_data), scale=st.sem(the_data))\n",
    "interval\n"
   ]
  },
  {
   "cell_type": "code",
   "execution_count": null,
   "metadata": {},
   "outputs": [],
   "source": [
    "#What does this tell us?  95% of repeated confidence intervals will include the population mean.  Or, we have 95% confidence the true mean is within the limits above."
   ]
  },
  {
   "cell_type": "code",
   "execution_count": null,
   "metadata": {},
   "outputs": [],
   "source": [
    "#Now, what if we have a rather large RSD, 14%, but we want to be confident that our sample is closely approximating our real mean (the population mean).\n",
    "#Put a different way, we want to decrease our relative error of the mean to ~5%.\n",
    "#Then we'll need to increase our n.  But by how much?\n",
    "#Let's write a function to help us"
   ]
  },
  {
   "cell_type": "code",
   "execution_count": 19,
   "metadata": {},
   "outputs": [
    {
     "data": {
      "text/plain": [
       "9.871925302145497"
      ]
     },
     "execution_count": 19,
     "metadata": {},
     "output_type": "execute_result"
    }
   ],
   "source": [
    "#First, give ourselves a starting point with an n=10\n",
    "#Compute the t statistic for 9 degrees of freedom (n=10) at 0.05\n",
    "the_t = st.t.ppf(1-0.025, 9)\n",
    "#Calculate our relative error with this t statistic\n",
    "starting_error = the_t*the_RSD / 10**(0.5)\n",
    "starting_error"
   ]
  },
  {
   "cell_type": "code",
   "execution_count": 20,
   "metadata": {},
   "outputs": [],
   "source": [
    "#Our starting error is about 10%\n",
    "#The function below loops until our threshold is met\n",
    "def findN(N,err,RSD):\n",
    "    while err > 5:\n",
    "        deg_free = N - 1\n",
    "        t_stat = st.t.ppf(1-0.025, deg_free)\n",
    "        err = t_stat*RSD / N**(0.5)\n",
    "        N += 1\n",
    "        print(f'Error:{err} -- N:{N}')\n",
    "   "
   ]
  },
  {
   "cell_type": "code",
   "execution_count": 21,
   "metadata": {},
   "outputs": [
    {
     "name": "stdout",
     "output_type": "stream",
     "text": [
      "Error:9.871925302145497 -- N:11\n",
      "Error:9.270966148034265 -- N:12\n",
      "Error:8.76810168512821 -- N:13\n",
      "Error:8.339256538651178 -- N:14\n",
      "Error:7.967882779579355 -- N:15\n",
      "Error:7.642185273592054 -- N:16\n",
      "Error:7.3535009321796645 -- N:17\n",
      "Error:7.095305283348754 -- N:18\n",
      "Error:6.862578549838739 -- N:19\n",
      "Error:6.651387089000705 -- N:20\n",
      "Error:6.45859880859475 -- N:21\n",
      "Error:6.281684687490131 -- N:22\n",
      "Error:6.118577227857963 -- N:23\n",
      "Error:5.9675675006420015 -- N:24\n",
      "Error:5.82722893775957 -- N:25\n",
      "Error:5.696360030093337 -- N:26\n",
      "Error:5.573940627650098 -- N:27\n",
      "Error:5.459098183747245 -- N:28\n",
      "Error:5.351081375073473 -- N:29\n",
      "Error:5.249239265495394 -- N:30\n",
      "Error:5.153004687261778 -- N:31\n",
      "Error:5.061880866422271 -- N:32\n",
      "Error:4.975430569524759 -- N:33\n"
     ]
    }
   ],
   "source": [
    "findN(10,starting_error,the_RSD)"
   ]
  },
  {
   "cell_type": "code",
   "execution_count": 6,
   "metadata": {},
   "outputs": [
    {
     "data": {
      "text/plain": [
       "3.9787559717132246"
      ]
     },
     "execution_count": 6,
     "metadata": {},
     "output_type": "execute_result"
    }
   ],
   "source": [
    "#Voila, at an N = 33, our relative error of the mean is ~5% with 95% confidence\n",
    "#If you performed N = 33 measurements over and over, 95% of them would have a relative error less than or equal to 5%"
   ]
  }
 ],
 "metadata": {
  "kernelspec": {
   "display_name": "Python 3",
   "language": "python",
   "name": "python3"
  },
  "language_info": {
   "codemirror_mode": {
    "name": "ipython",
    "version": 3
   },
   "file_extension": ".py",
   "mimetype": "text/x-python",
   "name": "python",
   "nbconvert_exporter": "python",
   "pygments_lexer": "ipython3",
   "version": "3.7.0"
  }
 },
 "nbformat": 4,
 "nbformat_minor": 2
}
