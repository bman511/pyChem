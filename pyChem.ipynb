{
 "cells": [
  {
   "cell_type": "code",
   "execution_count": 2,
   "metadata": {},
   "outputs": [],
   "source": [
    "import pandas as pd\n",
    "import statistics as sts\n",
    "from scipy import stats as st\n",
    "import numpy as np"
   ]
  },
  {
   "cell_type": "code",
   "execution_count": 3,
   "metadata": {},
   "outputs": [],
   "source": [
    "# Calculate the standard and relative standard deviation\n",
    "# of LC (liquid chromatography) peak area data"
   ]
  },
  {
   "cell_type": "code",
   "execution_count": 4,
   "metadata": {},
   "outputs": [
    {
     "data": {
      "text/html": [
       "<div>\n",
       "<style scoped>\n",
       "    .dataframe tbody tr th:only-of-type {\n",
       "        vertical-align: middle;\n",
       "    }\n",
       "\n",
       "    .dataframe tbody tr th {\n",
       "        vertical-align: top;\n",
       "    }\n",
       "\n",
       "    .dataframe thead th {\n",
       "        text-align: right;\n",
       "    }\n",
       "</style>\n",
       "<table border=\"1\" class=\"dataframe\">\n",
       "  <thead>\n",
       "    <tr style=\"text-align: right;\">\n",
       "      <th></th>\n",
       "      <th>Data</th>\n",
       "    </tr>\n",
       "  </thead>\n",
       "  <tbody>\n",
       "    <tr>\n",
       "      <td>0</td>\n",
       "      <td>2957398</td>\n",
       "    </tr>\n",
       "    <tr>\n",
       "      <td>1</td>\n",
       "      <td>3733127</td>\n",
       "    </tr>\n",
       "    <tr>\n",
       "      <td>2</td>\n",
       "      <td>2900811</td>\n",
       "    </tr>\n",
       "    <tr>\n",
       "      <td>3</td>\n",
       "      <td>3010190</td>\n",
       "    </tr>\n",
       "    <tr>\n",
       "      <td>4</td>\n",
       "      <td>2810196</td>\n",
       "    </tr>\n",
       "    <tr>\n",
       "      <td>5</td>\n",
       "      <td>2084063</td>\n",
       "    </tr>\n",
       "    <tr>\n",
       "      <td>6</td>\n",
       "      <td>2812196</td>\n",
       "    </tr>\n",
       "    <tr>\n",
       "      <td>7</td>\n",
       "      <td>2830106</td>\n",
       "    </tr>\n",
       "    <tr>\n",
       "      <td>8</td>\n",
       "      <td>2710116</td>\n",
       "    </tr>\n",
       "    <tr>\n",
       "      <td>9</td>\n",
       "      <td>2910196</td>\n",
       "    </tr>\n",
       "  </tbody>\n",
       "</table>\n",
       "</div>"
      ],
      "text/plain": [
       "      Data\n",
       "0  2957398\n",
       "1  3733127\n",
       "2  2900811\n",
       "3  3010190\n",
       "4  2810196\n",
       "5  2084063\n",
       "6  2812196\n",
       "7  2830106\n",
       "8  2710116\n",
       "9  2910196"
      ]
     },
     "execution_count": 4,
     "metadata": {},
     "output_type": "execute_result"
    }
   ],
   "source": [
    "df1 = pd.read_csv('data/SD_RSD.csv')\n",
    "df1"
   ]
  },
  {
   "cell_type": "code",
   "execution_count": 5,
   "metadata": {},
   "outputs": [
    {
     "data": {
      "text/plain": [
       "398088.9166369884"
      ]
     },
     "execution_count": 5,
     "metadata": {},
     "output_type": "execute_result"
    }
   ],
   "source": [
    "#Standard deviation of the data set using the statistics module\n",
    "sd1 = sts.stdev(df1['Data'])\n",
    "sd1"
   ]
  },
  {
   "cell_type": "code",
   "execution_count": 6,
   "metadata": {},
   "outputs": [
    {
     "data": {
      "text/plain": [
       "398088.9166369884"
      ]
     },
     "execution_count": 6,
     "metadata": {},
     "output_type": "execute_result"
    }
   ],
   "source": [
    "#Now using the describe pandas function, I select the number from the returned dataframe\n",
    "summ_df1 = df1.describe()\n",
    "sd2 = df1.describe().loc['std'][0]\n",
    "sd2"
   ]
  },
  {
   "cell_type": "code",
   "execution_count": 7,
   "metadata": {},
   "outputs": [
    {
     "data": {
      "text/html": [
       "<div>\n",
       "<style scoped>\n",
       "    .dataframe tbody tr th:only-of-type {\n",
       "        vertical-align: middle;\n",
       "    }\n",
       "\n",
       "    .dataframe tbody tr th {\n",
       "        vertical-align: top;\n",
       "    }\n",
       "\n",
       "    .dataframe thead th {\n",
       "        text-align: right;\n",
       "    }\n",
       "</style>\n",
       "<table border=\"1\" class=\"dataframe\">\n",
       "  <thead>\n",
       "    <tr style=\"text-align: right;\">\n",
       "      <th></th>\n",
       "      <th>Data</th>\n",
       "    </tr>\n",
       "  </thead>\n",
       "  <tbody>\n",
       "    <tr>\n",
       "      <td>count</td>\n",
       "      <td>1.000000e+01</td>\n",
       "    </tr>\n",
       "    <tr>\n",
       "      <td>mean</td>\n",
       "      <td>2.875840e+06</td>\n",
       "    </tr>\n",
       "    <tr>\n",
       "      <td>std</td>\n",
       "      <td>3.980889e+05</td>\n",
       "    </tr>\n",
       "    <tr>\n",
       "      <td>min</td>\n",
       "      <td>2.084063e+06</td>\n",
       "    </tr>\n",
       "    <tr>\n",
       "      <td>25%</td>\n",
       "      <td>2.810696e+06</td>\n",
       "    </tr>\n",
       "    <tr>\n",
       "      <td>50%</td>\n",
       "      <td>2.865458e+06</td>\n",
       "    </tr>\n",
       "    <tr>\n",
       "      <td>75%</td>\n",
       "      <td>2.945598e+06</td>\n",
       "    </tr>\n",
       "    <tr>\n",
       "      <td>max</td>\n",
       "      <td>3.733127e+06</td>\n",
       "    </tr>\n",
       "  </tbody>\n",
       "</table>\n",
       "</div>"
      ],
      "text/plain": [
       "               Data\n",
       "count  1.000000e+01\n",
       "mean   2.875840e+06\n",
       "std    3.980889e+05\n",
       "min    2.084063e+06\n",
       "25%    2.810696e+06\n",
       "50%    2.865458e+06\n",
       "75%    2.945598e+06\n",
       "max    3.733127e+06"
      ]
     },
     "execution_count": 7,
     "metadata": {},
     "output_type": "execute_result"
    }
   ],
   "source": [
    "summ_df1"
   ]
  },
  {
   "cell_type": "code",
   "execution_count": 8,
   "metadata": {},
   "outputs": [
    {
     "name": "stdout",
     "output_type": "stream",
     "text": [
      "13.8%\n"
     ]
    }
   ],
   "source": [
    "#But what is the magnitude of the spread compared to the raw data?\n",
    "#Let's calculate the RSD (relative standard deviation)\n",
    "the_mean = summ_df1.loc['mean'][0]\n",
    "the_RSD = round(sd1/the_mean * 100,1)\n",
    "print(f'{the_RSD}%')"
   ]
  },
  {
   "cell_type": "code",
   "execution_count": 9,
   "metadata": {},
   "outputs": [],
   "source": [
    "#13.8%, not very precise and not great for an LC method.  We probably need to do a bit more optimization or try and figure out the source of the variability."
   ]
  },
  {
   "cell_type": "code",
   "execution_count": 10,
   "metadata": {},
   "outputs": [
    {
     "data": {
      "text/plain": [
       "(2591064.2443005526, 3160615.555699447)"
      ]
     },
     "execution_count": 10,
     "metadata": {},
     "output_type": "execute_result"
    }
   ],
   "source": [
    "#Now let's calculate some 95% confidence intervals using scipy.stats\n",
    "#https://stackoverflow.com/questions/15033511/compute-a-confidence-interval-from-sample-data\n",
    "#See the interval() method for the t continuous variable at:\n",
    "#https://docs.scipy.org/doc/scipy/reference/generated/scipy.stats.t.html#scipy.stats.t\n",
    "the_data = df1['Data']\n",
    "interval = st.t.interval(0.95, len(the_data)-1, loc=np.mean(the_data), scale=st.sem(the_data))\n",
    "interval\n"
   ]
  },
  {
   "cell_type": "code",
   "execution_count": 11,
   "metadata": {},
   "outputs": [],
   "source": [
    "#What does this tell us?  95% of repeated confidence intervals will include the population mean.  Or, we have 95% confidence the true mean is within the limits above."
   ]
  },
  {
   "cell_type": "code",
   "execution_count": 12,
   "metadata": {},
   "outputs": [],
   "source": [
    "#Now, what if we have a rather large RSD, 14%, but we want to be confident that our sample is closely approximating our real mean (the population mean).\n",
    "#Put a different way, we want to decrease our relative error of the mean to ~5%.\n",
    "#Then we'll need to increase our n.  But by how much?\n",
    "#Let's write a function to help us"
   ]
  },
  {
   "cell_type": "code",
   "execution_count": 13,
   "metadata": {},
   "outputs": [
    {
     "data": {
      "text/plain": [
       "9.871925302145497"
      ]
     },
     "execution_count": 13,
     "metadata": {},
     "output_type": "execute_result"
    }
   ],
   "source": [
    "#First, give ourselves a starting point with an n=10\n",
    "#Compute the t statistic for 9 degrees of freedom (n=10) at 0.05\n",
    "the_t = st.t.ppf(1-0.025, 9)\n",
    "#Calculate our relative error with this t statistic\n",
    "starting_error = the_t*the_RSD / 10**(0.5)\n",
    "starting_error"
   ]
  },
  {
   "cell_type": "code",
   "execution_count": 24,
   "metadata": {},
   "outputs": [],
   "source": [
    "#Our starting error is about 10%\n",
    "#The function below loops until our threshold is met\n",
    "def findN(N,err,RSD):\n",
    "    while err > 5:\n",
    "        deg_free = N - 1\n",
    "        t_stat = st.t.ppf(1-0.025, deg_free)\n",
    "        err = t_stat*RSD / N**(0.5)\n",
    "        N += 1\n",
    "        print(f'Error:{round(err,1)}% -- N:{N}')\n",
    "   "
   ]
  },
  {
   "cell_type": "code",
   "execution_count": 25,
   "metadata": {
    "scrolled": true
   },
   "outputs": [
    {
     "name": "stdout",
     "output_type": "stream",
     "text": [
      "Error:9.9% -- N:11\n",
      "Error:9.3% -- N:12\n",
      "Error:8.8% -- N:13\n",
      "Error:8.3% -- N:14\n",
      "Error:8.0% -- N:15\n",
      "Error:7.6% -- N:16\n",
      "Error:7.4% -- N:17\n",
      "Error:7.1% -- N:18\n",
      "Error:6.9% -- N:19\n",
      "Error:6.7% -- N:20\n",
      "Error:6.5% -- N:21\n",
      "Error:6.3% -- N:22\n",
      "Error:6.1% -- N:23\n",
      "Error:6.0% -- N:24\n",
      "Error:5.8% -- N:25\n",
      "Error:5.7% -- N:26\n",
      "Error:5.6% -- N:27\n",
      "Error:5.5% -- N:28\n",
      "Error:5.4% -- N:29\n",
      "Error:5.2% -- N:30\n",
      "Error:5.2% -- N:31\n",
      "Error:5.1% -- N:32\n",
      "Error:5.0% -- N:33\n"
     ]
    }
   ],
   "source": [
    "findN(10,starting_error,the_RSD)"
   ]
  },
  {
   "cell_type": "code",
   "execution_count": 16,
   "metadata": {},
   "outputs": [],
   "source": [
    "#Voila, at an N = 33, our relative error of the mean is ~5% with 95% confidence\n",
    "#If you performed N = 33 measurements over and over, 95% of them would have a relative error less than or equal to 5%"
   ]
  },
  {
   "cell_type": "markdown",
   "metadata": {},
   "source": [
    "# Outliers\n",
    "#### Outliers in an analytical laboratory can happen for many reasons.  These include: \n",
    "* Bench technique (analyst technique) when manipulating samples\n",
    "* Instrument performance (or lack thereof)\n",
    "* Materials/reagents quality\n",
    "* The environment (lack of stable temperature, for instance)\n",
    "* The sample.  Sometimes it just really is high or low.\n",
    "\n",
    "#### Below, we'll use some methods to find outliers in a data set of protein concentration readings."
   ]
  },
  {
   "cell_type": "code",
   "execution_count": 26,
   "metadata": {},
   "outputs": [
    {
     "data": {
      "text/html": [
       "<div>\n",
       "<style scoped>\n",
       "    .dataframe tbody tr th:only-of-type {\n",
       "        vertical-align: middle;\n",
       "    }\n",
       "\n",
       "    .dataframe tbody tr th {\n",
       "        vertical-align: top;\n",
       "    }\n",
       "\n",
       "    .dataframe thead th {\n",
       "        text-align: right;\n",
       "    }\n",
       "</style>\n",
       "<table border=\"1\" class=\"dataframe\">\n",
       "  <thead>\n",
       "    <tr style=\"text-align: right;\">\n",
       "      <th></th>\n",
       "      <th>Protein Conc</th>\n",
       "    </tr>\n",
       "  </thead>\n",
       "  <tbody>\n",
       "    <tr>\n",
       "      <td>0</td>\n",
       "      <td>4.59</td>\n",
       "    </tr>\n",
       "    <tr>\n",
       "      <td>1</td>\n",
       "      <td>10.00</td>\n",
       "    </tr>\n",
       "    <tr>\n",
       "      <td>2</td>\n",
       "      <td>6.07</td>\n",
       "    </tr>\n",
       "    <tr>\n",
       "      <td>3</td>\n",
       "      <td>4.73</td>\n",
       "    </tr>\n",
       "    <tr>\n",
       "      <td>4</td>\n",
       "      <td>8.91</td>\n",
       "    </tr>\n",
       "    <tr>\n",
       "      <td>5</td>\n",
       "      <td>4.48</td>\n",
       "    </tr>\n",
       "    <tr>\n",
       "      <td>6</td>\n",
       "      <td>16.65</td>\n",
       "    </tr>\n",
       "    <tr>\n",
       "      <td>7</td>\n",
       "      <td>5.17</td>\n",
       "    </tr>\n",
       "    <tr>\n",
       "      <td>8</td>\n",
       "      <td>4.59</td>\n",
       "    </tr>\n",
       "    <tr>\n",
       "      <td>9</td>\n",
       "      <td>6.38</td>\n",
       "    </tr>\n",
       "  </tbody>\n",
       "</table>\n",
       "</div>"
      ],
      "text/plain": [
       "   Protein Conc\n",
       "0          4.59\n",
       "1         10.00\n",
       "2          6.07\n",
       "3          4.73\n",
       "4          8.91\n",
       "5          4.48\n",
       "6         16.65\n",
       "7          5.17\n",
       "8          4.59\n",
       "9          6.38"
      ]
     },
     "execution_count": 26,
     "metadata": {},
     "output_type": "execute_result"
    }
   ],
   "source": [
    "pc_df = pd.read_csv('data/Prot_Conc.csv')\n",
    "pc_df"
   ]
  },
  {
   "cell_type": "code",
   "execution_count": 32,
   "metadata": {},
   "outputs": [],
   "source": [
    "N = pc_df.count()"
   ]
  },
  {
   "cell_type": "markdown",
   "metadata": {},
   "source": [
    "#### First, a Grubb's test. "
   ]
  },
  {
   "cell_type": "code",
   "execution_count": 45,
   "metadata": {},
   "outputs": [
    {
     "data": {
      "text/plain": [
       "Protein Conc    2.289954\n",
       "dtype: float64"
      ]
     },
     "execution_count": 45,
     "metadata": {},
     "output_type": "execute_result"
    }
   ],
   "source": [
    "#Calculating our G-critical value (we could just look it up...)\n",
    "#Breaking it up into three pieces so the code isn't as ugly\n",
    "G_crit_a = (N - 1) / N**0.5\n",
    "G_crit_b = (st.t.ppf(1-(0.025/N), N - 2))**2\n",
    "G_crit_c = N - 2 + G_crit_b\n",
    "G_crit = G_crit_a * (G_crit_b / G_crit_c)**0.5\n",
    "G_crit\n",
    "#A standard table yields 2.290 for a data set of N = 10, so looks like we're ok"
   ]
  },
  {
   "cell_type": "code",
   "execution_count": 56,
   "metadata": {
    "scrolled": true
   },
   "outputs": [
    {
     "name": "stdout",
     "output_type": "stream",
     "text": [
      "   G(α, n) for Grubb’s Test of a Single Outlier              \n",
      "                                         α⇒  ⇓n   0.05   0.01\n",
      "0                                             3  1.155  1.155\n",
      "1                                             4  1.481  1.496\n",
      "2                                             5  1.715  1.764\n",
      "3                                             6  1.887  1.973\n",
      "4                                             7  2.202  2.139\n",
      "5                                             8  2.126  2.274\n",
      "6                                             9  2.215  2.387\n",
      "7                                            10  2.290  2.482\n",
      "8                                            11  2.355  2.564\n",
      "9                                            12  2.412  2.636\n",
      "10                                           13  2.462  2.699\n",
      "11                                           14  2.507  2.755\n",
      "12                                           15  2.549  2.755\n"
     ]
    }
   ],
   "source": [
    "#Or, just scrape web page with Pandas to get the values.\n",
    "table = pd.read_html('https://chem.libretexts.org/Ancillary_Materials/Reference/Reference_Tables/Analytic_References/Appendix_07%3A_Critical_Values_for_Grubb%E2%80%99s_Test')\n",
    "print(table[0])"
   ]
  },
  {
   "cell_type": "code",
   "execution_count": 58,
   "metadata": {},
   "outputs": [
    {
     "data": {
      "text/html": [
       "<div>\n",
       "<style scoped>\n",
       "    .dataframe tbody tr th:only-of-type {\n",
       "        vertical-align: middle;\n",
       "    }\n",
       "\n",
       "    .dataframe tbody tr th {\n",
       "        vertical-align: top;\n",
       "    }\n",
       "\n",
       "    .dataframe thead th {\n",
       "        text-align: right;\n",
       "    }\n",
       "</style>\n",
       "<table border=\"1\" class=\"dataframe\">\n",
       "  <thead>\n",
       "    <tr style=\"text-align: right;\">\n",
       "      <th></th>\n",
       "      <th>Protein Conc</th>\n",
       "    </tr>\n",
       "  </thead>\n",
       "  <tbody>\n",
       "    <tr>\n",
       "      <td>count</td>\n",
       "      <td>10.000000</td>\n",
       "    </tr>\n",
       "    <tr>\n",
       "      <td>mean</td>\n",
       "      <td>7.157000</td>\n",
       "    </tr>\n",
       "    <tr>\n",
       "      <td>std</td>\n",
       "      <td>3.847681</td>\n",
       "    </tr>\n",
       "    <tr>\n",
       "      <td>min</td>\n",
       "      <td>4.480000</td>\n",
       "    </tr>\n",
       "    <tr>\n",
       "      <td>25%</td>\n",
       "      <td>4.625000</td>\n",
       "    </tr>\n",
       "    <tr>\n",
       "      <td>50%</td>\n",
       "      <td>5.620000</td>\n",
       "    </tr>\n",
       "    <tr>\n",
       "      <td>75%</td>\n",
       "      <td>8.277500</td>\n",
       "    </tr>\n",
       "    <tr>\n",
       "      <td>max</td>\n",
       "      <td>16.650000</td>\n",
       "    </tr>\n",
       "  </tbody>\n",
       "</table>\n",
       "</div>"
      ],
      "text/plain": [
       "       Protein Conc\n",
       "count     10.000000\n",
       "mean       7.157000\n",
       "std        3.847681\n",
       "min        4.480000\n",
       "25%        4.625000\n",
       "50%        5.620000\n",
       "75%        8.277500\n",
       "max       16.650000"
      ]
     },
     "execution_count": 58,
     "metadata": {},
     "output_type": "execute_result"
    }
   ],
   "source": [
    "#Now let's calculate a limit based on our G-critical value\n",
    "summ_stats = pc_df.describe()\n",
    "summ_stats"
   ]
  }
 ],
 "metadata": {
  "kernelspec": {
   "display_name": "Python 3",
   "language": "python",
   "name": "python3"
  },
  "language_info": {
   "codemirror_mode": {
    "name": "ipython",
    "version": 3
   },
   "file_extension": ".py",
   "mimetype": "text/x-python",
   "name": "python",
   "nbconvert_exporter": "python",
   "pygments_lexer": "ipython3",
   "version": "3.7.3"
  }
 },
 "nbformat": 4,
 "nbformat_minor": 2
}
